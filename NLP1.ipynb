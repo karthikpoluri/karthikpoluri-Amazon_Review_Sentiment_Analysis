{
 "cells": [
  {
   "cell_type": "markdown",
   "metadata": {},
   "source": [
    "## Amazon Reviews Sentiment Analysis"
   ]
  },
  {
   "cell_type": "markdown",
   "metadata": {},
   "source": [
    "# You can test the MODEL here...\n"
   ]
  },
  {
   "cell_type": "code",
   "execution_count": 25,
   "metadata": {},
   "outputs": [
    {
     "name": "stdout",
     "output_type": "stream",
     "text": [
      "enter the review Thanks for watching\n"
     ]
    },
    {
     "data": {
      "text/plain": [
       "array(['POSITIVE'], dtype='<U8')"
      ]
     },
     "execution_count": 25,
     "metadata": {},
     "output_type": "execute_result"
    }
   ],
   "source": [
    "test_set = [input(\"enter the review \")]\n",
    "new_test = vct.transform(test_set)\n",
    "clf.predict(new_test)"
   ]
  },
  {
   "cell_type": "markdown",
   "metadata": {},
   "source": [
    "### Building model from here and all  observations are at the end of the file"
   ]
  },
  {
   "cell_type": "code",
   "execution_count": 2,
   "metadata": {},
   "outputs": [],
   "source": [
    "import random\n",
    "class Sentiment:\n",
    "    NEGATIVE = \"NEGATIVE\"\n",
    "    NEUTRAL = \"NEUTRAL\"\n",
    "    POSITIVE = \"POSITIVE\"\n",
    "    \n",
    "class Reviews():\n",
    "    def __init__(self,text, score):\n",
    "        self.score = score\n",
    "        self.text = text\n",
    "        self.sentiment = self.get_sentiment()\n",
    "        \n",
    "    def get_sentiment(self):\n",
    "        if self.score<= 2:\n",
    "            return Sentiment.NEGATIVE\n",
    "        elif self.score ==3:\n",
    "            return Sentiment.NEUTRAL\n",
    "        else:   # score of 4 or 5\n",
    "            return Sentiment.POSITIVE\n",
    "        \n",
    "class review_container:\n",
    "    def __init__(self,reviews):\n",
    "        self.reviews = reviews\n",
    "        \n",
    "    def get_text(self):\n",
    "        return [x.text for x in self.reviews]\n",
    "    def get_sentiment(self):\n",
    "        return [x.sentiment for x in self.reviews]\n",
    "        \n",
    "    def evenly_distribute(self):\n",
    "        negative = list(filter(lambda x:x.sentiment == Sentiment.NEGATIVE, self.reviews))\n",
    "        positive = list(filter(lambda x:x.sentiment == Sentiment.POSITIVE, self.reviews))\n",
    "        positive_shrunk = positive[:len(negative)]\n",
    "        self.reviews = negative + positive_shrunk\n",
    "        random.shuffle(self.reviews)\n",
    "        #print(negative[0].text)\n",
    "        print(len(negative))\n",
    "        print(len(positive_shrunk))"
   ]
  },
  {
   "cell_type": "code",
   "execution_count": 3,
   "metadata": {},
   "outputs": [],
   "source": [
    "import json    # important to read a json file and work on it..\n",
    "\n",
    "file_name = \"C:\\\\Users\\\\P V S Karthik\\\\Datasets\\\\Books_small_10000.json\"\n",
    "reviews = []\n",
    "with open(file_name) as f:   \n",
    "    for line in f:\n",
    "        review = json.loads(line)    # loading the json file into a variable...\n",
    "        reviews.append(Reviews(review[\"reviewText\"],review[\"overall\"])) # creating a list.. of requires objs"
   ]
  },
  {
   "cell_type": "code",
   "execution_count": 4,
   "metadata": {},
   "outputs": [
    {
     "data": {
      "text/plain": [
       "'I hoped for Mia to have some peace in this book, but her story is so real and raw.  Broken World was so touching and emotional because you go from Mia\\'s trauma to her trying to cope.  I love the way the story displays how there is no \"just bouncing back\" from being sexually assaulted.  Mia showed us how those demons come for you every day and how sometimes they best you. I was so in the moment with Broken World and hurt with Mia because she was surrounded by people but so alone and I understood her feelings.  I found myself wishing I could give her some of my courage and strength or even just to be there for her.  Thank you Lizzy for putting a great character\\'s voice on a strong subject and making it so that other peoples story may be heard through Mia\\'s.'"
      ]
     },
     "execution_count": 4,
     "metadata": {},
     "output_type": "execute_result"
    }
   ],
   "source": [
    "reviews[5].text # object Review as created above and used here...."
   ]
  },
  {
   "cell_type": "code",
   "execution_count": 5,
   "metadata": {},
   "outputs": [
    {
     "data": {
      "text/plain": [
       "'POSITIVE'"
      ]
     },
     "execution_count": 5,
     "metadata": {},
     "output_type": "execute_result"
    }
   ],
   "source": [
    "reviews[5].sentiment"
   ]
  },
  {
   "cell_type": "markdown",
   "metadata": {},
   "source": [
    "From now we are going to use BAG OF WORDS"
   ]
  },
  {
   "cell_type": "markdown",
   "metadata": {},
   "source": [
    "### Preparation DATA"
   ]
  },
  {
   "cell_type": "code",
   "execution_count": 6,
   "metadata": {},
   "outputs": [],
   "source": [
    "from sklearn.model_selection import train_test_split as tts\n",
    "train,test = tts(reviews,test_size = 0.33,random_state = 0)"
   ]
  },
  {
   "cell_type": "code",
   "execution_count": 7,
   "metadata": {},
   "outputs": [
    {
     "name": "stdout",
     "output_type": "stream",
     "text": [
      "418\n",
      "418\n"
     ]
    },
    {
     "data": {
      "text/plain": [
       "836"
      ]
     },
     "execution_count": 7,
     "metadata": {},
     "output_type": "execute_result"
    }
   ],
   "source": [
    "cont = review_container(train)\n",
    "cont.evenly_distribute()\n",
    "train_container = review_container(train)\n",
    "test_container = review_container(test)\n",
    "len(cont.reviews)"
   ]
  },
  {
   "cell_type": "code",
   "execution_count": 8,
   "metadata": {},
   "outputs": [
    {
     "name": "stdout",
     "output_type": "stream",
     "text": [
      "418\n",
      "418\n",
      "226\n",
      "226\n"
     ]
    },
    {
     "data": {
      "text/plain": [
       "418"
      ]
     },
     "execution_count": 8,
     "metadata": {},
     "output_type": "execute_result"
    }
   ],
   "source": [
    "train_container.evenly_distribute()\n",
    "\n",
    "train_x = train_container.get_text()\n",
    "train_y = train_container.get_sentiment()\n",
    "test_container.evenly_distribute()\n",
    "test_x = test_container.get_text()\n",
    "test_y = test_container.get_sentiment()\n",
    "\n",
    "train_y.count(Sentiment.POSITIVE)\n",
    "train_y.count(Sentiment.NEGATIVE)"
   ]
  },
  {
   "cell_type": "raw",
   "metadata": {},
   "source": [
    "# check the splitting happened or not...."
   ]
  },
  {
   "cell_type": "code",
   "execution_count": 9,
   "metadata": {},
   "outputs": [
    {
     "data": {
      "text/plain": [
       "\"An eBook was provided via NetGalley for an honest review. YA with a bit of the paranormal, this book is suitable for anyone 12+ and above.Every year, I get a flu shot. Every year. So far, it has not affected me adversely. In fact, it has helped cut down the number of days and alleviate the intensity of the flu symptoms when I do get it.Twenty two teenagers from the Bloomberg High School thought the same thing.  Nothing would happen, right? They were wrong. They were prepared for possible headaches, sore arms, possible slight fever. They were not prepared to hear everyone - telepathically. So now they know everyone's secret, what everyone was thinking. That would be perfect, right?Don't Even Think About It is funny, sarcastic, revealing, poignant and engrossing. Be prepared to get immersed in teenage insecurities, angst, crushes, young love and betrayal.Forced to band together to deal with their new sensitivity, personalities who would normally not band together suddenly find themselves as part of a tight knit group. Preconceived notions and biases are slowly broken down as the group find themselves working together for support and understanding.  Sarah Mlynowski cleverly develops different plot points as she explores how this new talent influences relationships and decisions. Do you know that saying ... about being careful what you wish for? Well, these high school teenagers find out the hard way what it truly means.Life as they know has undeniably changed for the Bloomberg 22, and they will eventually be called to make a decision about their future. What will they do?Don't Even Think About It is a quick read. I found the story engaging and entertaining that I finished reading the book in two days.  It is suitable for preteens and young adults. The book was well edited, skillfully told by the author. If you are looking for a quick light read, pick up this book. You won't regret it.\""
      ]
     },
     "execution_count": 9,
     "metadata": {},
     "output_type": "execute_result"
    }
   ],
   "source": [
    "train_x[0]"
   ]
  },
  {
   "cell_type": "markdown",
   "metadata": {},
   "source": [
    "### Bag of words..."
   ]
  },
  {
   "cell_type": "code",
   "execution_count": 10,
   "metadata": {},
   "outputs": [
    {
     "data": {
      "text/plain": [
       "<452x8825 sparse matrix of type '<class 'numpy.float64'>'\n",
       "\twith 26027 stored elements in Compressed Sparse Row format>"
      ]
     },
     "execution_count": 10,
     "metadata": {},
     "output_type": "execute_result"
    }
   ],
   "source": [
    "from sklearn.feature_extraction.text import CountVectorizer, TfidfVectorizer\n",
    "vct = TfidfVectorizer()\n",
    "train_x_vectors = vct.fit_transform(train_x)\n",
    "test_x_vectors = vct.transform(test_x)\n",
    "train_x_vectors\n",
    "test_x_vectors"
   ]
  },
  {
   "cell_type": "markdown",
   "metadata": {},
   "source": [
    "### Classification"
   ]
  },
  {
   "cell_type": "markdown",
   "metadata": {},
   "source": [
    "### Support Vector Machine"
   ]
  },
  {
   "cell_type": "code",
   "execution_count": 11,
   "metadata": {},
   "outputs": [
    {
     "name": "stdout",
     "output_type": "stream",
     "text": [
      "['NEGATIVE']\n"
     ]
    },
    {
     "data": {
      "text/plain": [
       "<1x8825 sparse matrix of type '<class 'numpy.float64'>'\n",
       "\twith 58 stored elements in Compressed Sparse Row format>"
      ]
     },
     "execution_count": 11,
     "metadata": {},
     "output_type": "execute_result"
    }
   ],
   "source": [
    "from sklearn.svm import SVC\n",
    "\n",
    "clf = SVC(kernel = \"linear\")\n",
    "clf.fit(train_x_vectors,train_y)\n",
    "\n",
    "print(clf.predict(test_x_vectors[0]))\n",
    "\n",
    "test_x_vectors[0]"
   ]
  },
  {
   "cell_type": "markdown",
   "metadata": {},
   "source": [
    "### Decision Tree"
   ]
  },
  {
   "cell_type": "code",
   "execution_count": 12,
   "metadata": {},
   "outputs": [
    {
     "data": {
      "text/plain": [
       "array(['POSITIVE'], dtype='<U8')"
      ]
     },
     "execution_count": 12,
     "metadata": {},
     "output_type": "execute_result"
    }
   ],
   "source": [
    "from sklearn.tree import DecisionTreeClassifier\n",
    "\n",
    "dt = DecisionTreeClassifier()\n",
    "dt.fit(train_x_vectors,train_y)\n",
    "dt.predict(test_x_vectors[0])"
   ]
  },
  {
   "cell_type": "markdown",
   "metadata": {},
   "source": [
    "### Naive Bayes"
   ]
  },
  {
   "cell_type": "code",
   "execution_count": 13,
   "metadata": {},
   "outputs": [
    {
     "data": {
      "text/plain": [
       "array(['POSITIVE'], dtype='<U8')"
      ]
     },
     "execution_count": 13,
     "metadata": {},
     "output_type": "execute_result"
    }
   ],
   "source": [
    "from sklearn.naive_bayes import GaussianNB\n",
    "NB = DecisionTreeClassifier()\n",
    "NB.fit(train_x_vectors,train_y)\n",
    "NB.predict(test_x_vectors[0])"
   ]
  },
  {
   "cell_type": "markdown",
   "metadata": {},
   "source": [
    "### Logistic Regression"
   ]
  },
  {
   "cell_type": "code",
   "execution_count": 14,
   "metadata": {},
   "outputs": [
    {
     "data": {
      "text/plain": [
       "array(['POSITIVE'], dtype='<U8')"
      ]
     },
     "execution_count": 14,
     "metadata": {},
     "output_type": "execute_result"
    }
   ],
   "source": [
    "from sklearn.linear_model import LogisticRegression\n",
    "\n",
    "lr = DecisionTreeClassifier()\n",
    "lr.fit(train_x_vectors,train_y)\n",
    "lr.predict(test_x_vectors[0])"
   ]
  },
  {
   "cell_type": "markdown",
   "metadata": {},
   "source": [
    "Because our observations are confusing a bit we will do and accuracy test to find which s working well..."
   ]
  },
  {
   "cell_type": "markdown",
   "metadata": {},
   "source": [
    "### Evaluation"
   ]
  },
  {
   "cell_type": "code",
   "execution_count": 15,
   "metadata": {},
   "outputs": [
    {
     "name": "stdout",
     "output_type": "stream",
     "text": [
      "0.8495575221238938\n",
      "0.6504424778761062\n",
      "0.6792035398230089\n",
      "0.668141592920354\n"
     ]
    }
   ],
   "source": [
    "# Mean Accuracy\n",
    "print(clf.score(test_x_vectors,test_y))\n",
    "print(dt.score(test_x_vectors,test_y))\n",
    "print(NB.score(test_x_vectors,test_y))\n",
    "print(lr.score(test_x_vectors,test_y))"
   ]
  },
  {
   "cell_type": "markdown",
   "metadata": {},
   "source": [
    "Since we got 85% accuracy we are choosingthe SVM model over others...\n",
    "\n",
    "after changing the Bag of words technique from count vectorizer to the Tfidf vectorizer i have achieved good accuracy."
   ]
  },
  {
   "cell_type": "code",
   "execution_count": 16,
   "metadata": {},
   "outputs": [
    {
     "name": "stderr",
     "output_type": "stream",
     "text": [
      "C:\\Users\\P V S Karthik\\anaconda3\\lib\\site-packages\\sklearn\\metrics\\_classification.py:1465: UndefinedMetricWarning: F-score is ill-defined and being set to 0.0 in labels with no true nor predicted samples. Use `zero_division` parameter to control this behavior.\n",
      "  average, \"true nor predicted\", 'F-score is', len(true_sum)\n"
     ]
    },
    {
     "data": {
      "text/plain": [
       "array([0.85152838, 0.        , 0.84753363])"
      ]
     },
     "execution_count": 16,
     "metadata": {},
     "output_type": "execute_result"
    }
   ],
   "source": [
    "#f1 score\n",
    "from sklearn.metrics import f1_score\n",
    "f1_score(test_y,clf.predict(test_x_vectors),average = None,labels = [Sentiment.POSITIVE,Sentiment.NEUTRAL,Sentiment.NEGATIVE])\n"
   ]
  },
  {
   "cell_type": "markdown",
   "metadata": {},
   "source": [
    "If we can observe the above observations we can say that the positive reviews are more in the dataset so the sataset would be biased\n",
    "\n",
    "positive - 89%, Neutral = 21%, Negative =7% \n",
    "\n",
    "so the dataset is extremely biased or the neutral section is effecting the data..\n",
    "\n",
    "Based on this now we need to decide which kind of result accuracy is importsnt...\n",
    "\n",
    "Now i have took more data sample but still this is enough...\n",
    "\n",
    "But now positive - 90%, Neutral = 26%, Negative =39% \n",
    "\n",
    "We have finally built a class tha will equate the number of positive and negative in the training and testing data. So that this will regulate the Bias our model has in the past....\n",
    "\n",
    "Now the new results are extremely satisfying..... as \n",
    "\n",
    "But now positive - 81% Neutral = 26%, Negative = 80 % \n",
    "\n",
    "Now we are using the Tfidfvectorizer model instead of count vectorizer as i have just experimented with the cout vectorizer but it is not accurate when compare with the Tfidf .\n",
    "\n",
    "Count vectorizer actually count the number of positive and negative words in a sentence and based on which it will decide. but when it comes to Tfidf it will reduce the weightage of the repititive  words such as \"This\",\"was\",\"is\".... etc.... so the accuracy of the model will also increase...\n",
    "\n",
    "But now positive - 85%, Negative = 84 % "
   ]
  },
  {
   "cell_type": "markdown",
   "metadata": {},
   "source": [
    "### Now we have to Tune the model"
   ]
  },
  {
   "cell_type": "code",
   "execution_count": 17,
   "metadata": {},
   "outputs": [
    {
     "data": {
      "text/plain": [
       "GridSearchCV(cv=5, estimator=SVC(),\n",
       "             param_grid={'C': (1, 4, 8, 16, 32), 'kernel': ('linear', 'rbf')})"
      ]
     },
     "execution_count": 17,
     "metadata": {},
     "output_type": "execute_result"
    }
   ],
   "source": [
    "from sklearn.model_selection import GridSearchCV\n",
    "parameters = {\"kernel\":(\"linear\",\"rbf\"),\"C\":(1,4,8,16,32)}\n",
    "svc = SVC()\n",
    "clf = GridSearchCV(svc,parameters,cv = 5)\n",
    "clf.fit(train_x_vectors,train_y)\n",
    "\n"
   ]
  },
  {
   "cell_type": "code",
   "execution_count": 18,
   "metadata": {},
   "outputs": [
    {
     "name": "stdout",
     "output_type": "stream",
     "text": [
      "0.838495575221239\n"
     ]
    }
   ],
   "source": [
    "print(clf.score(test_x_vectors,test_y))"
   ]
  },
  {
   "cell_type": "markdown",
   "metadata": {},
   "source": [
    "We can maek this model better by cleanign the data even further just like this example may effect the prediction...\n",
    "\n",
    "Ex: \"good! VS good\" there is a high chance of these two will be segregated as different words..."
   ]
  },
  {
   "cell_type": "markdown",
   "metadata": {},
   "source": [
    "## Saving the Model"
   ]
  },
  {
   "cell_type": "code",
   "execution_count": 19,
   "metadata": {},
   "outputs": [],
   "source": [
    "import pickle"
   ]
  },
  {
   "cell_type": "markdown",
   "metadata": {},
   "source": [
    "Save the model"
   ]
  },
  {
   "cell_type": "code",
   "execution_count": 20,
   "metadata": {},
   "outputs": [],
   "source": [
    "with open('C:\\\\Users\\\\P V S Karthik\\\\projects\\\\sentiment_classifier.pkl', 'wb') as f:\n",
    "    pickle.dump(clf, f)"
   ]
  },
  {
   "cell_type": "markdown",
   "metadata": {},
   "source": [
    "Load the model"
   ]
  },
  {
   "cell_type": "code",
   "execution_count": 21,
   "metadata": {},
   "outputs": [],
   "source": [
    "with open('C:\\\\Users\\\\P V S Karthik\\\\projects\\\\sentiment_classifier.pkl', 'rb') as f:\n",
    "    loaded_clf = pickle.load(f)"
   ]
  },
  {
   "cell_type": "markdown",
   "metadata": {},
   "source": [
    "Testing the model using pickle"
   ]
  },
  {
   "cell_type": "code",
   "execution_count": 22,
   "metadata": {},
   "outputs": [
    {
     "name": "stdout",
     "output_type": "stream",
     "text": [
      "I gave this book a shot. Look, having kids is the best thing one can do, in my opinion. I just want to make sure my kids are productive members of society. I don't have the time to read about complaining about kids. I enjoy them, it's hard work but what you sign up for!\n"
     ]
    },
    {
     "data": {
      "text/plain": [
       "array(['POSITIVE'], dtype='<U8')"
      ]
     },
     "execution_count": 22,
     "metadata": {},
     "output_type": "execute_result"
    }
   ],
   "source": [
    "\n",
    "print(test_x[0])\n",
    "\n",
    "loaded_clf.predict(test_x_vectors[0])"
   ]
  },
  {
   "cell_type": "code",
   "execution_count": null,
   "metadata": {},
   "outputs": [],
   "source": []
  }
 ],
 "metadata": {
  "kernelspec": {
   "display_name": "Python 3",
   "language": "python",
   "name": "python3"
  },
  "language_info": {
   "codemirror_mode": {
    "name": "ipython",
    "version": 3
   },
   "file_extension": ".py",
   "mimetype": "text/x-python",
   "name": "python",
   "nbconvert_exporter": "python",
   "pygments_lexer": "ipython3",
   "version": "3.7.6"
  }
 },
 "nbformat": 4,
 "nbformat_minor": 4
}
